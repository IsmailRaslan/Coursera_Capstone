{
 "cells": [
  {
   "cell_type": "code",
   "execution_count": 1,
   "metadata": {},
   "outputs": [
    {
     "name": "stdout",
     "output_type": "stream",
     "text": [
      "Libraries imported.\n"
     ]
    }
   ],
   "source": [
    "import numpy as np # library to handle data in a vectorized manner\n",
    "\n",
    "import pandas as pd # library for data analsysis\n",
    "pd.set_option(\"display.max_columns\", None)\n",
    "pd.set_option(\"display.max_rows\", None)\n",
    "\n",
    "import json # library to handle JSON files\n",
    "\n",
    "from geopy.geocoders import Nominatim # convert an address into latitude and longitude values\n",
    "\n",
    "import requests # library to handle requests\n",
    "from bs4 import BeautifulSoup # library to parse HTML and XML documents\n",
    "\n",
    "from pandas.io.json import json_normalize # tranform JSON file into a pandas dataframe\n",
    "\n",
    "# Matplotlib and associated plotting modules\n",
    "import matplotlib.cm as cm\n",
    "import matplotlib.colors as colors\n",
    "\n",
    "# import k-means from clustering stage\n",
    "from sklearn.cluster import KMeans\n",
    "\n",
    "import folium # map rendering library\n",
    "\n",
    "print(\"Libraries imported.\")"
   ]
  },
  {
   "cell_type": "code",
   "execution_count": 2,
   "metadata": {},
   "outputs": [],
   "source": [
    "data = requests.get('https://en.wikipedia.org/wiki/List_of_postal_codes_of_Canada:_M').text\n",
    "soup = BeautifulSoup(data, 'html.parser')\n",
    "postalCodeList = []\n",
    "boroughList = []\n",
    "neighborhoodList = []"
   ]
  },
  {
   "cell_type": "code",
   "execution_count": 3,
   "metadata": {},
   "outputs": [],
   "source": [
    "for row in soup.find('table').find_all('tr'):\n",
    "    cells = row.find_all('td')\n",
    "    if(len(cells) > 0):\n",
    "        postalCodeList.append(cells[0].text)\n",
    "        boroughList.append(cells[1].text)\n",
    "        neighborhoodList.append(cells[2].text.rstrip('\\n'))"
   ]
  },
  {
   "cell_type": "code",
   "execution_count": 4,
   "metadata": {},
   "outputs": [
    {
     "data": {
      "text/html": [
       "<div>\n",
       "<style scoped>\n",
       "    .dataframe tbody tr th:only-of-type {\n",
       "        vertical-align: middle;\n",
       "    }\n",
       "\n",
       "    .dataframe tbody tr th {\n",
       "        vertical-align: top;\n",
       "    }\n",
       "\n",
       "    .dataframe thead th {\n",
       "        text-align: right;\n",
       "    }\n",
       "</style>\n",
       "<table border=\"1\" class=\"dataframe\">\n",
       "  <thead>\n",
       "    <tr style=\"text-align: right;\">\n",
       "      <th></th>\n",
       "      <th>PostalCode</th>\n",
       "      <th>Borough</th>\n",
       "      <th>Neighborhood</th>\n",
       "    </tr>\n",
       "  </thead>\n",
       "  <tbody>\n",
       "    <tr>\n",
       "      <th>0</th>\n",
       "      <td>M1A\\n</td>\n",
       "      <td>Not assigned\\n</td>\n",
       "      <td></td>\n",
       "    </tr>\n",
       "    <tr>\n",
       "      <th>1</th>\n",
       "      <td>M2A\\n</td>\n",
       "      <td>Not assigned\\n</td>\n",
       "      <td></td>\n",
       "    </tr>\n",
       "    <tr>\n",
       "      <th>2</th>\n",
       "      <td>M3A\\n</td>\n",
       "      <td>North York\\n</td>\n",
       "      <td>Parkwoods</td>\n",
       "    </tr>\n",
       "    <tr>\n",
       "      <th>3</th>\n",
       "      <td>M4A\\n</td>\n",
       "      <td>North York\\n</td>\n",
       "      <td>Victoria Village</td>\n",
       "    </tr>\n",
       "    <tr>\n",
       "      <th>4</th>\n",
       "      <td>M5A\\n</td>\n",
       "      <td>Downtown Toronto\\n</td>\n",
       "      <td>Regent Park, Harbourfront</td>\n",
       "    </tr>\n",
       "  </tbody>\n",
       "</table>\n",
       "</div>"
      ],
      "text/plain": [
       "  PostalCode             Borough               Neighborhood\n",
       "0      M1A\\n      Not assigned\\n                           \n",
       "1      M2A\\n      Not assigned\\n                           \n",
       "2      M3A\\n        North York\\n                  Parkwoods\n",
       "3      M4A\\n        North York\\n           Victoria Village\n",
       "4      M5A\\n  Downtown Toronto\\n  Regent Park, Harbourfront"
      ]
     },
     "execution_count": 4,
     "metadata": {},
     "output_type": "execute_result"
    }
   ],
   "source": [
    "toronto_df = pd.DataFrame({\"PostalCode\": postalCodeList,\n",
    "                           \"Borough\": boroughList,\n",
    "                           \"Neighborhood\": neighborhoodList})\n",
    "\n",
    "toronto_df.head()"
   ]
  },
  {
   "cell_type": "code",
   "execution_count": 6,
   "metadata": {},
   "outputs": [
    {
     "data": {
      "text/html": [
       "<div>\n",
       "<style scoped>\n",
       "    .dataframe tbody tr th:only-of-type {\n",
       "        vertical-align: middle;\n",
       "    }\n",
       "\n",
       "    .dataframe tbody tr th {\n",
       "        vertical-align: top;\n",
       "    }\n",
       "\n",
       "    .dataframe thead th {\n",
       "        text-align: right;\n",
       "    }\n",
       "</style>\n",
       "<table border=\"1\" class=\"dataframe\">\n",
       "  <thead>\n",
       "    <tr style=\"text-align: right;\">\n",
       "      <th></th>\n",
       "      <th>PostalCode</th>\n",
       "      <th>Borough</th>\n",
       "      <th>Neighborhood</th>\n",
       "    </tr>\n",
       "  </thead>\n",
       "  <tbody>\n",
       "    <tr>\n",
       "      <th>0</th>\n",
       "      <td>M3A\\n</td>\n",
       "      <td>North York\\n</td>\n",
       "      <td>Parkwoods</td>\n",
       "    </tr>\n",
       "    <tr>\n",
       "      <th>1</th>\n",
       "      <td>M4A\\n</td>\n",
       "      <td>North York\\n</td>\n",
       "      <td>Victoria Village</td>\n",
       "    </tr>\n",
       "    <tr>\n",
       "      <th>2</th>\n",
       "      <td>M5A\\n</td>\n",
       "      <td>Downtown Toronto\\n</td>\n",
       "      <td>Regent Park, Harbourfront</td>\n",
       "    </tr>\n",
       "    <tr>\n",
       "      <th>3</th>\n",
       "      <td>M6A\\n</td>\n",
       "      <td>North York\\n</td>\n",
       "      <td>Lawrence Manor, Lawrence Heights</td>\n",
       "    </tr>\n",
       "    <tr>\n",
       "      <th>4</th>\n",
       "      <td>M7A\\n</td>\n",
       "      <td>Downtown Toronto\\n</td>\n",
       "      <td>Queen's Park, Ontario Provincial Government</td>\n",
       "    </tr>\n",
       "  </tbody>\n",
       "</table>\n",
       "</div>"
      ],
      "text/plain": [
       "  PostalCode             Borough                                 Neighborhood\n",
       "0      M3A\\n        North York\\n                                    Parkwoods\n",
       "1      M4A\\n        North York\\n                             Victoria Village\n",
       "2      M5A\\n  Downtown Toronto\\n                    Regent Park, Harbourfront\n",
       "3      M6A\\n        North York\\n             Lawrence Manor, Lawrence Heights\n",
       "4      M7A\\n  Downtown Toronto\\n  Queen's Park, Ontario Provincial Government"
      ]
     },
     "execution_count": 6,
     "metadata": {},
     "output_type": "execute_result"
    }
   ],
   "source": [
    "toronto_df_dropna = toronto_df[toronto_df.Borough != \"Not assigned\\n\"].reset_index(drop=True)\n",
    "toronto_df_dropna.head()"
   ]
  },
  {
   "cell_type": "code",
   "execution_count": 7,
   "metadata": {},
   "outputs": [
    {
     "data": {
      "text/html": [
       "<div>\n",
       "<style scoped>\n",
       "    .dataframe tbody tr th:only-of-type {\n",
       "        vertical-align: middle;\n",
       "    }\n",
       "\n",
       "    .dataframe tbody tr th {\n",
       "        vertical-align: top;\n",
       "    }\n",
       "\n",
       "    .dataframe thead th {\n",
       "        text-align: right;\n",
       "    }\n",
       "</style>\n",
       "<table border=\"1\" class=\"dataframe\">\n",
       "  <thead>\n",
       "    <tr style=\"text-align: right;\">\n",
       "      <th></th>\n",
       "      <th>PostalCode</th>\n",
       "      <th>Borough</th>\n",
       "      <th>Neighborhood</th>\n",
       "    </tr>\n",
       "  </thead>\n",
       "  <tbody>\n",
       "    <tr>\n",
       "      <th>0</th>\n",
       "      <td>M1B\\n</td>\n",
       "      <td>Scarborough\\n</td>\n",
       "      <td>Malvern, Rouge</td>\n",
       "    </tr>\n",
       "    <tr>\n",
       "      <th>1</th>\n",
       "      <td>M1C\\n</td>\n",
       "      <td>Scarborough\\n</td>\n",
       "      <td>Rouge Hill, Port Union, Highland Creek</td>\n",
       "    </tr>\n",
       "    <tr>\n",
       "      <th>2</th>\n",
       "      <td>M1E\\n</td>\n",
       "      <td>Scarborough\\n</td>\n",
       "      <td>Guildwood, Morningside, West Hill</td>\n",
       "    </tr>\n",
       "    <tr>\n",
       "      <th>3</th>\n",
       "      <td>M1G\\n</td>\n",
       "      <td>Scarborough\\n</td>\n",
       "      <td>Woburn</td>\n",
       "    </tr>\n",
       "    <tr>\n",
       "      <th>4</th>\n",
       "      <td>M1H\\n</td>\n",
       "      <td>Scarborough\\n</td>\n",
       "      <td>Cedarbrae</td>\n",
       "    </tr>\n",
       "  </tbody>\n",
       "</table>\n",
       "</div>"
      ],
      "text/plain": [
       "  PostalCode        Borough                            Neighborhood\n",
       "0      M1B\\n  Scarborough\\n                          Malvern, Rouge\n",
       "1      M1C\\n  Scarborough\\n  Rouge Hill, Port Union, Highland Creek\n",
       "2      M1E\\n  Scarborough\\n       Guildwood, Morningside, West Hill\n",
       "3      M1G\\n  Scarborough\\n                                  Woburn\n",
       "4      M1H\\n  Scarborough\\n                               Cedarbrae"
      ]
     },
     "execution_count": 7,
     "metadata": {},
     "output_type": "execute_result"
    }
   ],
   "source": [
    "toronto_df_grouped = toronto_df_dropna.groupby([\"PostalCode\", \"Borough\"], as_index=False).agg(lambda x: \", \".join(x))\n",
    "toronto_df_grouped.head()"
   ]
  },
  {
   "cell_type": "code",
   "execution_count": 8,
   "metadata": {},
   "outputs": [
    {
     "data": {
      "text/html": [
       "<div>\n",
       "<style scoped>\n",
       "    .dataframe tbody tr th:only-of-type {\n",
       "        vertical-align: middle;\n",
       "    }\n",
       "\n",
       "    .dataframe tbody tr th {\n",
       "        vertical-align: top;\n",
       "    }\n",
       "\n",
       "    .dataframe thead th {\n",
       "        text-align: right;\n",
       "    }\n",
       "</style>\n",
       "<table border=\"1\" class=\"dataframe\">\n",
       "  <thead>\n",
       "    <tr style=\"text-align: right;\">\n",
       "      <th></th>\n",
       "      <th>PostalCode</th>\n",
       "      <th>Borough</th>\n",
       "      <th>Neighborhood</th>\n",
       "    </tr>\n",
       "  </thead>\n",
       "  <tbody>\n",
       "    <tr>\n",
       "      <th>0</th>\n",
       "      <td>M1B\\n</td>\n",
       "      <td>Scarborough\\n</td>\n",
       "      <td>Malvern, Rouge</td>\n",
       "    </tr>\n",
       "    <tr>\n",
       "      <th>1</th>\n",
       "      <td>M1C\\n</td>\n",
       "      <td>Scarborough\\n</td>\n",
       "      <td>Rouge Hill, Port Union, Highland Creek</td>\n",
       "    </tr>\n",
       "    <tr>\n",
       "      <th>2</th>\n",
       "      <td>M1E\\n</td>\n",
       "      <td>Scarborough\\n</td>\n",
       "      <td>Guildwood, Morningside, West Hill</td>\n",
       "    </tr>\n",
       "    <tr>\n",
       "      <th>3</th>\n",
       "      <td>M1G\\n</td>\n",
       "      <td>Scarborough\\n</td>\n",
       "      <td>Woburn</td>\n",
       "    </tr>\n",
       "    <tr>\n",
       "      <th>4</th>\n",
       "      <td>M1H\\n</td>\n",
       "      <td>Scarborough\\n</td>\n",
       "      <td>Cedarbrae</td>\n",
       "    </tr>\n",
       "  </tbody>\n",
       "</table>\n",
       "</div>"
      ],
      "text/plain": [
       "  PostalCode        Borough                            Neighborhood\n",
       "0      M1B\\n  Scarborough\\n                          Malvern, Rouge\n",
       "1      M1C\\n  Scarborough\\n  Rouge Hill, Port Union, Highland Creek\n",
       "2      M1E\\n  Scarborough\\n       Guildwood, Morningside, West Hill\n",
       "3      M1G\\n  Scarborough\\n                                  Woburn\n",
       "4      M1H\\n  Scarborough\\n                               Cedarbrae"
      ]
     },
     "execution_count": 8,
     "metadata": {},
     "output_type": "execute_result"
    }
   ],
   "source": [
    "for index, row in toronto_df_grouped.iterrows():\n",
    "    if row[\"Neighborhood\"] == \"Not assigned\":\n",
    "        row[\"Neighborhood\"] = row[\"Borough\"]\n",
    "        \n",
    "toronto_df_grouped.head()"
   ]
  },
  {
   "cell_type": "code",
   "execution_count": 9,
   "metadata": {},
   "outputs": [
    {
     "data": {
      "text/plain": [
       "(103, 3)"
      ]
     },
     "execution_count": 9,
     "metadata": {},
     "output_type": "execute_result"
    }
   ],
   "source": [
    "toronto_df_grouped.shape"
   ]
  },
  {
   "cell_type": "markdown",
   "metadata": {},
   "source": [
    "# PART 2"
   ]
  },
  {
   "cell_type": "code",
   "execution_count": 11,
   "metadata": {},
   "outputs": [
    {
     "data": {
      "text/html": [
       "<div>\n",
       "<style scoped>\n",
       "    .dataframe tbody tr th:only-of-type {\n",
       "        vertical-align: middle;\n",
       "    }\n",
       "\n",
       "    .dataframe tbody tr th {\n",
       "        vertical-align: top;\n",
       "    }\n",
       "\n",
       "    .dataframe thead th {\n",
       "        text-align: right;\n",
       "    }\n",
       "</style>\n",
       "<table border=\"1\" class=\"dataframe\">\n",
       "  <thead>\n",
       "    <tr style=\"text-align: right;\">\n",
       "      <th></th>\n",
       "      <th>Postal Code</th>\n",
       "      <th>Latitude</th>\n",
       "      <th>Longitude</th>\n",
       "    </tr>\n",
       "  </thead>\n",
       "  <tbody>\n",
       "    <tr>\n",
       "      <th>0</th>\n",
       "      <td>M1B</td>\n",
       "      <td>43.806686</td>\n",
       "      <td>-79.194353</td>\n",
       "    </tr>\n",
       "    <tr>\n",
       "      <th>1</th>\n",
       "      <td>M1C</td>\n",
       "      <td>43.784535</td>\n",
       "      <td>-79.160497</td>\n",
       "    </tr>\n",
       "    <tr>\n",
       "      <th>2</th>\n",
       "      <td>M1E</td>\n",
       "      <td>43.763573</td>\n",
       "      <td>-79.188711</td>\n",
       "    </tr>\n",
       "    <tr>\n",
       "      <th>3</th>\n",
       "      <td>M1G</td>\n",
       "      <td>43.770992</td>\n",
       "      <td>-79.216917</td>\n",
       "    </tr>\n",
       "    <tr>\n",
       "      <th>4</th>\n",
       "      <td>M1H</td>\n",
       "      <td>43.773136</td>\n",
       "      <td>-79.239476</td>\n",
       "    </tr>\n",
       "  </tbody>\n",
       "</table>\n",
       "</div>"
      ],
      "text/plain": [
       "  Postal Code   Latitude  Longitude\n",
       "0         M1B  43.806686 -79.194353\n",
       "1         M1C  43.784535 -79.160497\n",
       "2         M1E  43.763573 -79.188711\n",
       "3         M1G  43.770992 -79.216917\n",
       "4         M1H  43.773136 -79.239476"
      ]
     },
     "execution_count": 11,
     "metadata": {},
     "output_type": "execute_result"
    }
   ],
   "source": [
    "coordinates = pd.read_csv(\"https://cocl.us/Geospatial_data\")\n",
    "coordinates.head()"
   ]
  },
  {
   "cell_type": "code",
   "execution_count": 12,
   "metadata": {},
   "outputs": [
    {
     "data": {
      "text/html": [
       "<div>\n",
       "<style scoped>\n",
       "    .dataframe tbody tr th:only-of-type {\n",
       "        vertical-align: middle;\n",
       "    }\n",
       "\n",
       "    .dataframe tbody tr th {\n",
       "        vertical-align: top;\n",
       "    }\n",
       "\n",
       "    .dataframe thead th {\n",
       "        text-align: right;\n",
       "    }\n",
       "</style>\n",
       "<table border=\"1\" class=\"dataframe\">\n",
       "  <thead>\n",
       "    <tr style=\"text-align: right;\">\n",
       "      <th></th>\n",
       "      <th>PostalCode</th>\n",
       "      <th>Latitude</th>\n",
       "      <th>Longitude</th>\n",
       "    </tr>\n",
       "  </thead>\n",
       "  <tbody>\n",
       "    <tr>\n",
       "      <th>0</th>\n",
       "      <td>M1B</td>\n",
       "      <td>43.806686</td>\n",
       "      <td>-79.194353</td>\n",
       "    </tr>\n",
       "    <tr>\n",
       "      <th>1</th>\n",
       "      <td>M1C</td>\n",
       "      <td>43.784535</td>\n",
       "      <td>-79.160497</td>\n",
       "    </tr>\n",
       "    <tr>\n",
       "      <th>2</th>\n",
       "      <td>M1E</td>\n",
       "      <td>43.763573</td>\n",
       "      <td>-79.188711</td>\n",
       "    </tr>\n",
       "    <tr>\n",
       "      <th>3</th>\n",
       "      <td>M1G</td>\n",
       "      <td>43.770992</td>\n",
       "      <td>-79.216917</td>\n",
       "    </tr>\n",
       "    <tr>\n",
       "      <th>4</th>\n",
       "      <td>M1H</td>\n",
       "      <td>43.773136</td>\n",
       "      <td>-79.239476</td>\n",
       "    </tr>\n",
       "  </tbody>\n",
       "</table>\n",
       "</div>"
      ],
      "text/plain": [
       "  PostalCode   Latitude  Longitude\n",
       "0        M1B  43.806686 -79.194353\n",
       "1        M1C  43.784535 -79.160497\n",
       "2        M1E  43.763573 -79.188711\n",
       "3        M1G  43.770992 -79.216917\n",
       "4        M1H  43.773136 -79.239476"
      ]
     },
     "execution_count": 12,
     "metadata": {},
     "output_type": "execute_result"
    }
   ],
   "source": [
    "coordinates.rename(columns={\"Postal Code\": \"PostalCode\"}, inplace=True)\n",
    "coordinates.head()"
   ]
  },
  {
   "cell_type": "code",
   "execution_count": 16,
   "metadata": {},
   "outputs": [
    {
     "data": {
      "text/html": [
       "<div>\n",
       "<style scoped>\n",
       "    .dataframe tbody tr th:only-of-type {\n",
       "        vertical-align: middle;\n",
       "    }\n",
       "\n",
       "    .dataframe tbody tr th {\n",
       "        vertical-align: top;\n",
       "    }\n",
       "\n",
       "    .dataframe thead th {\n",
       "        text-align: right;\n",
       "    }\n",
       "</style>\n",
       "<table border=\"1\" class=\"dataframe\">\n",
       "  <thead>\n",
       "    <tr style=\"text-align: right;\">\n",
       "      <th></th>\n",
       "      <th>PostalCode</th>\n",
       "      <th>Borough</th>\n",
       "      <th>Neighborhood</th>\n",
       "      <th>Latitude</th>\n",
       "      <th>Longitude</th>\n",
       "    </tr>\n",
       "  </thead>\n",
       "  <tbody>\n",
       "    <tr>\n",
       "      <th>0</th>\n",
       "      <td>M1B\\n</td>\n",
       "      <td>Scarborough\\n</td>\n",
       "      <td>Malvern, Rouge</td>\n",
       "      <td>NaN</td>\n",
       "      <td>NaN</td>\n",
       "    </tr>\n",
       "    <tr>\n",
       "      <th>1</th>\n",
       "      <td>M1C\\n</td>\n",
       "      <td>Scarborough\\n</td>\n",
       "      <td>Rouge Hill, Port Union, Highland Creek</td>\n",
       "      <td>NaN</td>\n",
       "      <td>NaN</td>\n",
       "    </tr>\n",
       "    <tr>\n",
       "      <th>2</th>\n",
       "      <td>M1E\\n</td>\n",
       "      <td>Scarborough\\n</td>\n",
       "      <td>Guildwood, Morningside, West Hill</td>\n",
       "      <td>NaN</td>\n",
       "      <td>NaN</td>\n",
       "    </tr>\n",
       "    <tr>\n",
       "      <th>3</th>\n",
       "      <td>M1G\\n</td>\n",
       "      <td>Scarborough\\n</td>\n",
       "      <td>Woburn</td>\n",
       "      <td>NaN</td>\n",
       "      <td>NaN</td>\n",
       "    </tr>\n",
       "    <tr>\n",
       "      <th>4</th>\n",
       "      <td>M1H\\n</td>\n",
       "      <td>Scarborough\\n</td>\n",
       "      <td>Cedarbrae</td>\n",
       "      <td>NaN</td>\n",
       "      <td>NaN</td>\n",
       "    </tr>\n",
       "  </tbody>\n",
       "</table>\n",
       "</div>"
      ],
      "text/plain": [
       "  PostalCode        Borough                            Neighborhood  Latitude  \\\n",
       "0      M1B\\n  Scarborough\\n                          Malvern, Rouge       NaN   \n",
       "1      M1C\\n  Scarborough\\n  Rouge Hill, Port Union, Highland Creek       NaN   \n",
       "2      M1E\\n  Scarborough\\n       Guildwood, Morningside, West Hill       NaN   \n",
       "3      M1G\\n  Scarborough\\n                                  Woburn       NaN   \n",
       "4      M1H\\n  Scarborough\\n                               Cedarbrae       NaN   \n",
       "\n",
       "   Longitude  \n",
       "0        NaN  \n",
       "1        NaN  \n",
       "2        NaN  \n",
       "3        NaN  \n",
       "4        NaN  "
      ]
     },
     "execution_count": 16,
     "metadata": {},
     "output_type": "execute_result"
    }
   ],
   "source": [
    "toronto_df_new = toronto_df_grouped.merge(coordinates, on=\"PostalCode\", how=\"left\")\n",
    "toronto_df_new.head()"
   ]
  },
  {
   "cell_type": "code",
   "execution_count": 20,
   "metadata": {},
   "outputs": [],
   "source": [
    "toronto_df_grouped[\"Latitude\"] = coordinates[\"Latitude\"]\n",
    "toronto_df_grouped[\"Longitude\"] = coordinates[\"Longitude\"]"
   ]
  },
  {
   "cell_type": "code",
   "execution_count": 21,
   "metadata": {},
   "outputs": [
    {
     "data": {
      "text/html": [
       "<div>\n",
       "<style scoped>\n",
       "    .dataframe tbody tr th:only-of-type {\n",
       "        vertical-align: middle;\n",
       "    }\n",
       "\n",
       "    .dataframe tbody tr th {\n",
       "        vertical-align: top;\n",
       "    }\n",
       "\n",
       "    .dataframe thead th {\n",
       "        text-align: right;\n",
       "    }\n",
       "</style>\n",
       "<table border=\"1\" class=\"dataframe\">\n",
       "  <thead>\n",
       "    <tr style=\"text-align: right;\">\n",
       "      <th></th>\n",
       "      <th>PostalCode</th>\n",
       "      <th>Borough</th>\n",
       "      <th>Neighborhood</th>\n",
       "      <th>Latitude</th>\n",
       "      <th>Longitude</th>\n",
       "    </tr>\n",
       "  </thead>\n",
       "  <tbody>\n",
       "    <tr>\n",
       "      <th>0</th>\n",
       "      <td>M1B\\n</td>\n",
       "      <td>Scarborough\\n</td>\n",
       "      <td>Malvern, Rouge</td>\n",
       "      <td>43.806686</td>\n",
       "      <td>-79.194353</td>\n",
       "    </tr>\n",
       "    <tr>\n",
       "      <th>1</th>\n",
       "      <td>M1C\\n</td>\n",
       "      <td>Scarborough\\n</td>\n",
       "      <td>Rouge Hill, Port Union, Highland Creek</td>\n",
       "      <td>43.784535</td>\n",
       "      <td>-79.160497</td>\n",
       "    </tr>\n",
       "    <tr>\n",
       "      <th>2</th>\n",
       "      <td>M1E\\n</td>\n",
       "      <td>Scarborough\\n</td>\n",
       "      <td>Guildwood, Morningside, West Hill</td>\n",
       "      <td>43.763573</td>\n",
       "      <td>-79.188711</td>\n",
       "    </tr>\n",
       "    <tr>\n",
       "      <th>3</th>\n",
       "      <td>M1G\\n</td>\n",
       "      <td>Scarborough\\n</td>\n",
       "      <td>Woburn</td>\n",
       "      <td>43.770992</td>\n",
       "      <td>-79.216917</td>\n",
       "    </tr>\n",
       "    <tr>\n",
       "      <th>4</th>\n",
       "      <td>M1H\\n</td>\n",
       "      <td>Scarborough\\n</td>\n",
       "      <td>Cedarbrae</td>\n",
       "      <td>43.773136</td>\n",
       "      <td>-79.239476</td>\n",
       "    </tr>\n",
       "  </tbody>\n",
       "</table>\n",
       "</div>"
      ],
      "text/plain": [
       "  PostalCode        Borough                            Neighborhood  \\\n",
       "0      M1B\\n  Scarborough\\n                          Malvern, Rouge   \n",
       "1      M1C\\n  Scarborough\\n  Rouge Hill, Port Union, Highland Creek   \n",
       "2      M1E\\n  Scarborough\\n       Guildwood, Morningside, West Hill   \n",
       "3      M1G\\n  Scarborough\\n                                  Woburn   \n",
       "4      M1H\\n  Scarborough\\n                               Cedarbrae   \n",
       "\n",
       "    Latitude  Longitude  \n",
       "0  43.806686 -79.194353  \n",
       "1  43.784535 -79.160497  \n",
       "2  43.763573 -79.188711  \n",
       "3  43.770992 -79.216917  \n",
       "4  43.773136 -79.239476  "
      ]
     },
     "execution_count": 21,
     "metadata": {},
     "output_type": "execute_result"
    }
   ],
   "source": [
    "toronto_df_grouped.head()"
   ]
  },
  {
   "cell_type": "markdown",
   "metadata": {},
   "source": [
    "# PART 3"
   ]
  },
  {
   "cell_type": "code",
   "execution_count": 22,
   "metadata": {},
   "outputs": [
    {
     "name": "stdout",
     "output_type": "stream",
     "text": [
      "The geograpical coordinate of Toronto are 43.6534817, -79.3839347.\n"
     ]
    }
   ],
   "source": [
    "address = 'Toronto'\n",
    "\n",
    "geolocator = Nominatim(user_agent=\"my-application\")\n",
    "location = geolocator.geocode(address)\n",
    "latitude = location.latitude\n",
    "longitude = location.longitude\n",
    "print('The geograpical coordinate of Toronto are {}, {}.'.format(latitude, longitude))"
   ]
  },
  {
   "cell_type": "code",
   "execution_count": 24,
   "metadata": {},
   "outputs": [
    {
     "data": {
      "text/html": [
       "<div style=\"width:100%;\"><div style=\"position:relative;width:100%;height:0;padding-bottom:60%;\"><span style=\"color:#565656\">Make this Notebook Trusted to load map: File -> Trust Notebook</span><iframe src=\"about:blank\" style=\"position:absolute;width:100%;height:100%;left:0;top:0;border:none !important;\" data-html=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 onload=\"this.contentDocument.open();this.contentDocument.write(atob(this.getAttribute('data-html')));this.contentDocument.close();\" allowfullscreen webkitallowfullscreen mozallowfullscreen></iframe></div></div>"
      ],
      "text/plain": [
       "<folium.folium.Map at 0x7f5a77c83080>"
      ]
     },
     "execution_count": 24,
     "metadata": {},
     "output_type": "execute_result"
    }
   ],
   "source": [
    "map_toronto = folium.Map(location=[latitude, longitude], zoom_start=10)\n",
    "\n",
    "for lat, lng, borough, neighborhood in zip(toronto_df_grouped['Latitude'], toronto_df_grouped['Longitude'], toronto_df_grouped['Borough'], toronto_df_grouped['Neighborhood']):\n",
    "    label = '{}, {}'.format(neighborhood, borough)\n",
    "    label = folium.Popup(label, parse_html=True)\n",
    "    folium.CircleMarker(\n",
    "        [lat, lng],\n",
    "        radius=5,\n",
    "        popup=label,\n",
    "        color='blue',\n",
    "        fill=True,\n",
    "        fill_color='#3186cc',\n",
    "        fill_opacity=0.7).add_to(map_toronto)  \n",
    "    \n",
    "map_toronto"
   ]
  },
  {
   "cell_type": "code",
   "execution_count": 25,
   "metadata": {},
   "outputs": [
    {
     "data": {
      "text/plain": [
       "['East Toronto\\n', 'Central Toronto\\n', 'Downtown Toronto\\n', 'West Toronto\\n']"
      ]
     },
     "execution_count": 25,
     "metadata": {},
     "output_type": "execute_result"
    }
   ],
   "source": [
    "borough_names = list(toronto_df_grouped.Borough.unique())\n",
    "\n",
    "borough_with_toronto = []\n",
    "\n",
    "for x in borough_names:\n",
    "    if \"toronto\" in x.lower():\n",
    "        borough_with_toronto.append(x)\n",
    "        \n",
    "borough_with_toronto"
   ]
  },
  {
   "cell_type": "code",
   "execution_count": 26,
   "metadata": {},
   "outputs": [
    {
     "name": "stdout",
     "output_type": "stream",
     "text": [
      "(39, 5)\n"
     ]
    },
    {
     "data": {
      "text/html": [
       "<div>\n",
       "<style scoped>\n",
       "    .dataframe tbody tr th:only-of-type {\n",
       "        vertical-align: middle;\n",
       "    }\n",
       "\n",
       "    .dataframe tbody tr th {\n",
       "        vertical-align: top;\n",
       "    }\n",
       "\n",
       "    .dataframe thead th {\n",
       "        text-align: right;\n",
       "    }\n",
       "</style>\n",
       "<table border=\"1\" class=\"dataframe\">\n",
       "  <thead>\n",
       "    <tr style=\"text-align: right;\">\n",
       "      <th></th>\n",
       "      <th>PostalCode</th>\n",
       "      <th>Borough</th>\n",
       "      <th>Neighborhood</th>\n",
       "      <th>Latitude</th>\n",
       "      <th>Longitude</th>\n",
       "    </tr>\n",
       "  </thead>\n",
       "  <tbody>\n",
       "    <tr>\n",
       "      <th>0</th>\n",
       "      <td>M4E\\n</td>\n",
       "      <td>East Toronto\\n</td>\n",
       "      <td>The Beaches</td>\n",
       "      <td>43.676357</td>\n",
       "      <td>-79.293031</td>\n",
       "    </tr>\n",
       "    <tr>\n",
       "      <th>1</th>\n",
       "      <td>M4K\\n</td>\n",
       "      <td>East Toronto\\n</td>\n",
       "      <td>The Danforth West, Riverdale</td>\n",
       "      <td>43.679557</td>\n",
       "      <td>-79.352188</td>\n",
       "    </tr>\n",
       "    <tr>\n",
       "      <th>2</th>\n",
       "      <td>M4L\\n</td>\n",
       "      <td>East Toronto\\n</td>\n",
       "      <td>India Bazaar, The Beaches West</td>\n",
       "      <td>43.668999</td>\n",
       "      <td>-79.315572</td>\n",
       "    </tr>\n",
       "    <tr>\n",
       "      <th>3</th>\n",
       "      <td>M4M\\n</td>\n",
       "      <td>East Toronto\\n</td>\n",
       "      <td>Studio District</td>\n",
       "      <td>43.659526</td>\n",
       "      <td>-79.340923</td>\n",
       "    </tr>\n",
       "    <tr>\n",
       "      <th>4</th>\n",
       "      <td>M4N\\n</td>\n",
       "      <td>Central Toronto\\n</td>\n",
       "      <td>Lawrence Park</td>\n",
       "      <td>43.728020</td>\n",
       "      <td>-79.388790</td>\n",
       "    </tr>\n",
       "  </tbody>\n",
       "</table>\n",
       "</div>"
      ],
      "text/plain": [
       "  PostalCode            Borough                    Neighborhood   Latitude  \\\n",
       "0      M4E\\n     East Toronto\\n                     The Beaches  43.676357   \n",
       "1      M4K\\n     East Toronto\\n    The Danforth West, Riverdale  43.679557   \n",
       "2      M4L\\n     East Toronto\\n  India Bazaar, The Beaches West  43.668999   \n",
       "3      M4M\\n     East Toronto\\n                 Studio District  43.659526   \n",
       "4      M4N\\n  Central Toronto\\n                   Lawrence Park  43.728020   \n",
       "\n",
       "   Longitude  \n",
       "0 -79.293031  \n",
       "1 -79.352188  \n",
       "2 -79.315572  \n",
       "3 -79.340923  \n",
       "4 -79.388790  "
      ]
     },
     "execution_count": 26,
     "metadata": {},
     "output_type": "execute_result"
    }
   ],
   "source": [
    "toronto_df_new = toronto_df_grouped[toronto_df_grouped['Borough'].isin(borough_with_toronto)].reset_index(drop=True)\n",
    "print(toronto_df_new.shape)\n",
    "toronto_df_new.head()"
   ]
  },
  {
   "cell_type": "code",
   "execution_count": 27,
   "metadata": {},
   "outputs": [
    {
     "data": {
      "text/html": [
       "<div style=\"width:100%;\"><div style=\"position:relative;width:100%;height:0;padding-bottom:60%;\"><span style=\"color:#565656\">Make this Notebook Trusted to load map: File -> Trust Notebook</span><iframe src=\"about:blank\" style=\"position:absolute;width:100%;height:100%;left:0;top:0;border:none !important;\" data-html=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 onload=\"this.contentDocument.open();this.contentDocument.write(atob(this.getAttribute('data-html')));this.contentDocument.close();\" allowfullscreen webkitallowfullscreen mozallowfullscreen></iframe></div></div>"
      ],
      "text/plain": [
       "<folium.folium.Map at 0x7f5a77a8ca90>"
      ]
     },
     "execution_count": 27,
     "metadata": {},
     "output_type": "execute_result"
    }
   ],
   "source": [
    "map_toronto = folium.Map(location=[latitude, longitude], zoom_start=10)\n",
    "\n",
    "# add markers to map\n",
    "for lat, lng, borough, neighborhood in zip(toronto_df_new['Latitude'], toronto_df_new['Longitude'], toronto_df_new['Borough'], toronto_df_new['Neighborhood']):\n",
    "    label = '{}, {}'.format(neighborhood, borough)\n",
    "    label = folium.Popup(label, parse_html=True)\n",
    "    folium.CircleMarker(\n",
    "        [lat, lng],\n",
    "        radius=5,\n",
    "        popup=label,\n",
    "        color='blue',\n",
    "        fill=True,\n",
    "        fill_color='#3186cc',\n",
    "        fill_opacity=0.7).add_to(map_toronto)  \n",
    "    \n",
    "map_toronto"
   ]
  },
  {
   "cell_type": "code",
   "execution_count": null,
   "metadata": {},
   "outputs": [],
   "source": [
    "CLIENT_ID = 'your Foursquare ID' # your Foursquare ID\n",
    "CLIENT_SECRET = 'your Foursquare Secret' # your Foursquare Secret\n",
    "VERSION = '20180605' # Foursquare API version\n",
    "\n",
    "print('Your credentails:')\n",
    "print('CLIENT_ID: ' + CLIENT_ID)\n",
    "print('CLIENT_SECRET:' + CLIENT_SECRET)"
   ]
  },
  {
   "cell_type": "code",
   "execution_count": null,
   "metadata": {},
   "outputs": [],
   "source": [
    "radius = 500\n",
    "LIMIT = 100\n",
    "\n",
    "venues = []\n",
    "\n",
    "for lat, long, post, borough, neighborhood in zip(toronto_df_new['Latitude'], toronto_df_new['Longitude'], toronto_df_new['PostalCode'], toronto_df_new['Borough'], toronto_df_new['Neighborhood']):\n",
    "    url = \"https://api.foursquare.com/v2/venues/explore?client_id={}&client_secret={}&v={}&ll={},{}&radius={}&limit={}\".format(\n",
    "        CLIENT_ID,\n",
    "        CLIENT_SECRET,\n",
    "        VERSION,\n",
    "        lat,\n",
    "        long,\n",
    "        radius, \n",
    "        LIMIT)\n",
    "    \n",
    "    results = requests.get(url).json()[\"response\"]['groups'][0]['items']\n",
    "    \n",
    "    for venue in results:\n",
    "        venues.append((\n",
    "            post, \n",
    "            borough,\n",
    "            neighborhood,\n",
    "            lat, \n",
    "            long, \n",
    "            venue['venue']['name'], \n",
    "            venue['venue']['location']['lat'], \n",
    "            venue['venue']['location']['lng'],  \n",
    "            venue['venue']['categories'][0]['name']))"
   ]
  },
  {
   "cell_type": "code",
   "execution_count": null,
   "metadata": {},
   "outputs": [],
   "source": [
    "venues_df = pd.DataFrame(venues)\n",
    "\n",
    "venues_df.columns = ['PostalCode', 'Borough', 'Neighborhood', 'BoroughLatitude', 'BoroughLongitude', 'VenueName', 'VenueLatitude', 'VenueLongitude', 'VenueCategory']\n",
    "\n",
    "print(venues_df.shape)\n",
    "venues_df.head()"
   ]
  },
  {
   "cell_type": "code",
   "execution_count": null,
   "metadata": {},
   "outputs": [],
   "source": [
    "venues_df.groupby([\"PostalCode\", \"Borough\", \"Neighborhood\"]).count()"
   ]
  },
  {
   "cell_type": "code",
   "execution_count": null,
   "metadata": {},
   "outputs": [],
   "source": [
    "toronto_onehot = pd.get_dummies(venues_df[['VenueCategory']], prefix=\"\", prefix_sep=\"\")\n",
    "\n",
    "toronto_onehot['PostalCode'] = venues_df['PostalCode'] \n",
    "toronto_onehot['Borough'] = venues_df['Borough'] \n",
    "toronto_onehot['Neighborhoods'] = venues_df['Neighborhood'] \n",
    "\n",
    "fixed_columns = list(toronto_onehot.columns[-3:]) + list(toronto_onehot.columns[:-3])\n",
    "toronto_onehot = toronto_onehot[fixed_columns]\n",
    "\n",
    "print(toronto_onehot.shape)\n",
    "toronto_onehot.head()"
   ]
  },
  {
   "cell_type": "code",
   "execution_count": null,
   "metadata": {},
   "outputs": [],
   "source": [
    "toronto_grouped = toronto_onehot.groupby([\"PostalCode\", \"Borough\", \"Neighborhoods\"]).mean().reset_index()\n",
    "\n",
    "print(toronto_grouped.shape)\n",
    "toronto_grouped"
   ]
  },
  {
   "cell_type": "code",
   "execution_count": null,
   "metadata": {},
   "outputs": [],
   "source": [
    "num_top_venues = 10\n",
    "\n",
    "indicators = ['st', 'nd', 'rd']\n",
    "\n",
    "areaColumns = ['PostalCode', 'Borough', 'Neighborhoods']\n",
    "freqColumns = []\n",
    "for ind in np.arange(num_top_venues):\n",
    "    try:\n",
    "        freqColumns.append('{}{} Most Common Venue'.format(ind+1, indicators[ind]))\n",
    "    except:\n",
    "        freqColumns.append('{}th Most Common Venue'.format(ind+1))\n",
    "columns = areaColumns+freqColumns\n",
    "\n",
    "neighborhoods_venues_sorted = pd.DataFrame(columns=columns)\n",
    "neighborhoods_venues_sorted['PostalCode'] = toronto_grouped['PostalCode']\n",
    "neighborhoods_venues_sorted['Borough'] = toronto_grouped['Borough']\n",
    "neighborhoods_venues_sorted['Neighborhoods'] = toronto_grouped['Neighborhoods']\n",
    "\n",
    "for ind in np.arange(toronto_grouped.shape[0]):\n",
    "    row_categories = toronto_grouped.iloc[ind, :].iloc[3:]\n",
    "    row_categories_sorted = row_categories.sort_values(ascending=False)\n",
    "    neighborhoods_venues_sorted.iloc[ind, 3:] = row_categories_sorted.index.values[0:num_top_venues]\n",
    "\n",
    "print(neighborhoods_venues_sorted.shape)\n",
    "neighborhoods_venues_sorted"
   ]
  },
  {
   "cell_type": "code",
   "execution_count": null,
   "metadata": {},
   "outputs": [],
   "source": [
    "kclusters = 5\n",
    "\n",
    "toronto_grouped_clustering = toronto_grouped.drop([\"PostalCode\", \"Borough\", \"Neighborhoods\"], 1)\n",
    "\n",
    "kmeans = KMeans(n_clusters=kclusters, random_state=0).fit(toronto_grouped_clustering)\n",
    "\n",
    "kmeans.labels_[0:10]"
   ]
  },
  {
   "cell_type": "code",
   "execution_count": null,
   "metadata": {},
   "outputs": [],
   "source": [
    "toronto_merged = toronto_df_new.copy()\n",
    "\n",
    "toronto_merged[\"Cluster Labels\"] = kmeans.labels_\n",
    "\n",
    "toronto_merged = toronto_merged.join(neighborhoods_venues_sorted.drop([\"Borough\", \"Neighborhoods\"], 1).set_index(\"PostalCode\"), on=\"PostalCode\")\n",
    "\n",
    "print(toronto_merged.shape)\n",
    "toronto_merged.head()"
   ]
  },
  {
   "cell_type": "code",
   "execution_count": null,
   "metadata": {},
   "outputs": [],
   "source": [
    "print(toronto_merged.shape)\n",
    "toronto_merged.sort_values([\"Cluster Labels\"], inplace=True)\n",
    "toronto_merged"
   ]
  },
  {
   "cell_type": "code",
   "execution_count": null,
   "metadata": {},
   "outputs": [],
   "source": [
    "map_clusters = folium.Map(location=[latitude, longitude], zoom_start=11)\n",
    "\n",
    "x = np.arange(kclusters)\n",
    "ys = [i+x+(i*x)**2 for i in range(kclusters)]\n",
    "colors_array = cm.rainbow(np.linspace(0, 1, len(ys)))\n",
    "rainbow = [colors.rgb2hex(i) for i in colors_array]\n",
    "\n",
    "markers_colors = []\n",
    "for lat, lon, post, bor, poi, cluster in zip(toronto_merged['Latitude'], toronto_merged['Longitude'], toronto_merged['PostalCode'], toronto_merged['Borough'], toronto_merged['Neighborhood'], toronto_merged['Cluster Labels']):\n",
    "    label = folium.Popup('{} ({}): {} - Cluster {}'.format(bor, post, poi, cluster), parse_html=True)\n",
    "    folium.CircleMarker(\n",
    "        [lat, lon],\n",
    "        radius=5,\n",
    "        popup=label,\n",
    "        color=rainbow[cluster-1],\n",
    "        fill=True,\n",
    "        fill_color=rainbow[cluster-1],\n",
    "        fill_opacity=0.7).add_to(map_clusters)\n",
    "       \n",
    "map_clusters"
   ]
  },
  {
   "cell_type": "code",
   "execution_count": null,
   "metadata": {},
   "outputs": [],
   "source": [
    "toronto_merged.loc[toronto_merged['Cluster Labels'] == 0, toronto_merged.columns[[1] + list(range(5, toronto_merged.shape[1]))]]"
   ]
  },
  {
   "cell_type": "code",
   "execution_count": null,
   "metadata": {},
   "outputs": [],
   "source": [
    "toronto_merged.loc[toronto_merged['Cluster Labels'] == 1, toronto_merged.columns[[1] + list(range(5, toronto_merged.shape[1]))]]"
   ]
  },
  {
   "cell_type": "code",
   "execution_count": null,
   "metadata": {},
   "outputs": [],
   "source": []
  },
  {
   "cell_type": "code",
   "execution_count": null,
   "metadata": {},
   "outputs": [],
   "source": []
  }
 ],
 "metadata": {
  "kernelspec": {
   "display_name": "Python",
   "language": "python",
   "name": "conda-env-python-py"
  },
  "language_info": {
   "codemirror_mode": {
    "name": "ipython",
    "version": 3
   },
   "file_extension": ".py",
   "mimetype": "text/x-python",
   "name": "python",
   "nbconvert_exporter": "python",
   "pygments_lexer": "ipython3",
   "version": "3.6.10"
  }
 },
 "nbformat": 4,
 "nbformat_minor": 4
}
