import numpy as mp
import pandas as pd
print("hi capstoneboi")
